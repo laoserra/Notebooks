{
 "cells": [
  {
   "cell_type": "code",
   "execution_count": 24,
   "metadata": {},
   "outputs": [],
   "source": [
    "import os\n",
    "import numpy as np\n",
    "import matplotlib.pyplot as plt\n",
    "from keras.applications.vgg16 import VGG16\n",
    "from keras.preprocessing.image import ImageDataGenerator\n",
    "\n",
    "from keras import models, layers, optimizers"
   ]
  },
  {
   "cell_type": "code",
   "execution_count": 25,
   "metadata": {},
   "outputs": [],
   "source": [
    "# instantiate the VGG16 convolutional base\n",
    "conv_base = VGG16(weights='imagenet',\n",
    "                 include_top=False,\n",
    "                 input_shape=(150, 150, 3))"
   ]
  },
  {
   "cell_type": "code",
   "execution_count": 26,
   "metadata": {},
   "outputs": [
    {
     "name": "stdout",
     "output_type": "stream",
     "text": [
      "Model: \"vgg16\"\n",
      "_________________________________________________________________\n",
      "Layer (type)                 Output Shape              Param #   \n",
      "=================================================================\n",
      "input_3 (InputLayer)         (None, 150, 150, 3)       0         \n",
      "_________________________________________________________________\n",
      "block1_conv1 (Conv2D)        (None, 150, 150, 64)      1792      \n",
      "_________________________________________________________________\n",
      "block1_conv2 (Conv2D)        (None, 150, 150, 64)      36928     \n",
      "_________________________________________________________________\n",
      "block1_pool (MaxPooling2D)   (None, 75, 75, 64)        0         \n",
      "_________________________________________________________________\n",
      "block2_conv1 (Conv2D)        (None, 75, 75, 128)       73856     \n",
      "_________________________________________________________________\n",
      "block2_conv2 (Conv2D)        (None, 75, 75, 128)       147584    \n",
      "_________________________________________________________________\n",
      "block2_pool (MaxPooling2D)   (None, 37, 37, 128)       0         \n",
      "_________________________________________________________________\n",
      "block3_conv1 (Conv2D)        (None, 37, 37, 256)       295168    \n",
      "_________________________________________________________________\n",
      "block3_conv2 (Conv2D)        (None, 37, 37, 256)       590080    \n",
      "_________________________________________________________________\n",
      "block3_conv3 (Conv2D)        (None, 37, 37, 256)       590080    \n",
      "_________________________________________________________________\n",
      "block3_pool (MaxPooling2D)   (None, 18, 18, 256)       0         \n",
      "_________________________________________________________________\n",
      "block4_conv1 (Conv2D)        (None, 18, 18, 512)       1180160   \n",
      "_________________________________________________________________\n",
      "block4_conv2 (Conv2D)        (None, 18, 18, 512)       2359808   \n",
      "_________________________________________________________________\n",
      "block4_conv3 (Conv2D)        (None, 18, 18, 512)       2359808   \n",
      "_________________________________________________________________\n",
      "block4_pool (MaxPooling2D)   (None, 9, 9, 512)         0         \n",
      "_________________________________________________________________\n",
      "block5_conv1 (Conv2D)        (None, 9, 9, 512)         2359808   \n",
      "_________________________________________________________________\n",
      "block5_conv2 (Conv2D)        (None, 9, 9, 512)         2359808   \n",
      "_________________________________________________________________\n",
      "block5_conv3 (Conv2D)        (None, 9, 9, 512)         2359808   \n",
      "_________________________________________________________________\n",
      "block5_pool (MaxPooling2D)   (None, 4, 4, 512)         0         \n",
      "=================================================================\n",
      "Total params: 14,714,688\n",
      "Trainable params: 14,714,688\n",
      "Non-trainable params: 0\n",
      "_________________________________________________________________\n"
     ]
    }
   ],
   "source": [
    "conv_base.summary()"
   ]
  },
  {
   "cell_type": "markdown",
   "metadata": {},
   "source": [
    "# feature extraction without data augmentation(fast) "
   ]
  },
  {
   "cell_type": "code",
   "execution_count": 27,
   "metadata": {},
   "outputs": [],
   "source": [
    "# extract features\n",
    "base_dir = '/home/ls283h/Work/Notebooks/Data/cats_and_dogs_small'\n",
    "train_dir = os.path.join(base_dir, 'train')\n",
    "validation_dir = os.path.join(base_dir, 'validation')\n",
    "test_dir = os.path.join(base_dir, 'test')"
   ]
  },
  {
   "cell_type": "code",
   "execution_count": 16,
   "metadata": {},
   "outputs": [
    {
     "name": "stdout",
     "output_type": "stream",
     "text": [
      "Found 2000 images belonging to 2 classes.\n",
      "Found 1000 images belonging to 2 classes.\n",
      "Found 1000 images belonging to 2 classes.\n"
     ]
    }
   ],
   "source": [
    "datagen = ImageDataGenerator(rescale=1./255)\n",
    "batch_size = 20\n",
    "\n",
    "def extract_features(directory, sample_count):\n",
    "    features = np.zeros(shape=(sample_count, 4, 4, 512))\n",
    "    labels = np.zeros(shape=(sample_count))\n",
    "    generator = datagen.flow_from_directory(\n",
    "        directory,\n",
    "        target_size=(150, 150),\n",
    "        batch_size=batch_size,\n",
    "        class_mode='binary')\n",
    "    i = 0\n",
    "    for inputs_batch, labels_batch in generator:\n",
    "        features_batch = conv_base.predict(inputs_batch) #predict only with conv\n",
    "        features[i * batch_size : (i + 1) * batch_size] = features_batch\n",
    "        labels[i * batch_size : (i + 1) * batch_size] = labels_batch\n",
    "        i+=1\n",
    "        if i * batch_size >= sample_count:\n",
    "            break\n",
    "    return features, labels\n",
    "\n",
    "train_features, train_labels = extract_features(train_dir, 2000)\n",
    "validation_features, validation_labels = extract_features(validation_dir, 1000)\n",
    "test_features, test_labels = extract_features(test_dir, 1000)\n",
    "\n",
    "train_features = np.reshape(train_features, (2000, 4 * 4 * 512))\n",
    "validation_features = np.reshape(validation_features, (1000, 4 * 4 * 512))\n",
    "test_features = np.reshape(test_features, (1000, 4 * 4 * 512))"
   ]
  },
  {
   "cell_type": "code",
   "execution_count": 5,
   "metadata": {},
   "outputs": [
    {
     "name": "stdout",
     "output_type": "stream",
     "text": [
      "WARNING:tensorflow:From /home/ls283h/python-virtual-environments/chollet/lib/python3.6/site-packages/keras/backend/tensorflow_backend.py:3733: calling dropout (from tensorflow.python.ops.nn_ops) with keep_prob is deprecated and will be removed in a future version.\n",
      "Instructions for updating:\n",
      "Please use `rate` instead of `keep_prob`. Rate should be set to `rate = 1 - keep_prob`.\n",
      "WARNING:tensorflow:From /home/ls283h/python-virtual-environments/chollet/lib/python3.6/site-packages/keras/optimizers.py:793: The name tf.train.Optimizer is deprecated. Please use tf.compat.v1.train.Optimizer instead.\n",
      "\n",
      "WARNING:tensorflow:From /home/ls283h/python-virtual-environments/chollet/lib/python3.6/site-packages/tensorflow/python/ops/nn_impl.py:180: add_dispatch_support.<locals>.wrapper (from tensorflow.python.ops.array_ops) is deprecated and will be removed in a future version.\n",
      "Instructions for updating:\n",
      "Use tf.where in 2.0, which has the same broadcast rule as np.where\n",
      "Train on 2000 samples, validate on 1000 samples\n",
      "Epoch 1/30\n",
      "2000/2000 [==============================] - 1s 645us/step - loss: 0.5891 - acc: 0.6790 - val_loss: 0.4292 - val_acc: 0.8400\n",
      "Epoch 2/30\n",
      "2000/2000 [==============================] - 1s 409us/step - loss: 0.4206 - acc: 0.8150 - val_loss: 0.3604 - val_acc: 0.8530\n",
      "Epoch 3/30\n",
      "2000/2000 [==============================] - 1s 411us/step - loss: 0.3565 - acc: 0.8520 - val_loss: 0.3138 - val_acc: 0.8920\n",
      "Epoch 4/30\n",
      "2000/2000 [==============================] - 1s 412us/step - loss: 0.3032 - acc: 0.8815 - val_loss: 0.2876 - val_acc: 0.8960\n",
      "Epoch 5/30\n",
      "2000/2000 [==============================] - 1s 414us/step - loss: 0.2862 - acc: 0.8810 - val_loss: 0.2742 - val_acc: 0.8980\n",
      "Epoch 6/30\n",
      "2000/2000 [==============================] - 1s 419us/step - loss: 0.2590 - acc: 0.9000 - val_loss: 0.2636 - val_acc: 0.9020\n",
      "Epoch 7/30\n",
      "2000/2000 [==============================] - 1s 411us/step - loss: 0.2393 - acc: 0.9105 - val_loss: 0.2676 - val_acc: 0.8860\n",
      "Epoch 8/30\n",
      "2000/2000 [==============================] - 1s 432us/step - loss: 0.2300 - acc: 0.9090 - val_loss: 0.2586 - val_acc: 0.8910\n",
      "Epoch 9/30\n",
      "2000/2000 [==============================] - 1s 421us/step - loss: 0.2127 - acc: 0.9235 - val_loss: 0.2554 - val_acc: 0.8920\n",
      "Epoch 10/30\n",
      "2000/2000 [==============================] - 1s 429us/step - loss: 0.2068 - acc: 0.9230 - val_loss: 0.2457 - val_acc: 0.9050\n",
      "Epoch 11/30\n",
      "2000/2000 [==============================] - 1s 432us/step - loss: 0.1983 - acc: 0.9315 - val_loss: 0.2414 - val_acc: 0.9090\n",
      "Epoch 12/30\n",
      "2000/2000 [==============================] - 1s 430us/step - loss: 0.1847 - acc: 0.9375 - val_loss: 0.2392 - val_acc: 0.9060\n",
      "Epoch 13/30\n",
      "2000/2000 [==============================] - 1s 419us/step - loss: 0.1753 - acc: 0.9360 - val_loss: 0.2370 - val_acc: 0.9070\n",
      "Epoch 14/30\n",
      "2000/2000 [==============================] - 1s 422us/step - loss: 0.1649 - acc: 0.9400 - val_loss: 0.2368 - val_acc: 0.9060\n",
      "Epoch 15/30\n",
      "2000/2000 [==============================] - 1s 421us/step - loss: 0.1618 - acc: 0.9390 - val_loss: 0.2359 - val_acc: 0.9070\n",
      "Epoch 16/30\n",
      "2000/2000 [==============================] - 1s 419us/step - loss: 0.1545 - acc: 0.9470 - val_loss: 0.2449 - val_acc: 0.8950\n",
      "Epoch 17/30\n",
      "2000/2000 [==============================] - 1s 437us/step - loss: 0.1427 - acc: 0.9545 - val_loss: 0.2417 - val_acc: 0.9010\n",
      "Epoch 18/30\n",
      "2000/2000 [==============================] - 1s 422us/step - loss: 0.1373 - acc: 0.9590 - val_loss: 0.2342 - val_acc: 0.9070\n",
      "Epoch 19/30\n",
      "2000/2000 [==============================] - 1s 422us/step - loss: 0.1313 - acc: 0.9580 - val_loss: 0.2458 - val_acc: 0.8980\n",
      "Epoch 20/30\n",
      "2000/2000 [==============================] - 1s 440us/step - loss: 0.1295 - acc: 0.9550 - val_loss: 0.2335 - val_acc: 0.9050\n",
      "Epoch 21/30\n",
      "2000/2000 [==============================] - 1s 414us/step - loss: 0.1207 - acc: 0.9575 - val_loss: 0.2334 - val_acc: 0.9040\n",
      "Epoch 22/30\n",
      "2000/2000 [==============================] - 1s 416us/step - loss: 0.1191 - acc: 0.9615 - val_loss: 0.2400 - val_acc: 0.9020\n",
      "Epoch 23/30\n",
      "2000/2000 [==============================] - 1s 418us/step - loss: 0.1146 - acc: 0.9650 - val_loss: 0.2337 - val_acc: 0.9040\n",
      "Epoch 24/30\n",
      "2000/2000 [==============================] - 1s 432us/step - loss: 0.1050 - acc: 0.9660 - val_loss: 0.2358 - val_acc: 0.9020\n",
      "Epoch 25/30\n",
      "2000/2000 [==============================] - 1s 418us/step - loss: 0.1064 - acc: 0.9645 - val_loss: 0.2374 - val_acc: 0.9020\n",
      "Epoch 26/30\n",
      "2000/2000 [==============================] - 1s 427us/step - loss: 0.1036 - acc: 0.9620 - val_loss: 0.2335 - val_acc: 0.9030\n",
      "Epoch 27/30\n",
      "2000/2000 [==============================] - 1s 434us/step - loss: 0.0958 - acc: 0.9650 - val_loss: 0.2360 - val_acc: 0.9030\n",
      "Epoch 28/30\n",
      "2000/2000 [==============================] - 1s 425us/step - loss: 0.0907 - acc: 0.9735 - val_loss: 0.2380 - val_acc: 0.9070\n",
      "Epoch 29/30\n",
      "2000/2000 [==============================] - 1s 424us/step - loss: 0.0858 - acc: 0.9695 - val_loss: 0.2374 - val_acc: 0.9060\n",
      "Epoch 30/30\n",
      "2000/2000 [==============================] - 1s 429us/step - loss: 0.0837 - acc: 0.9760 - val_loss: 0.2413 - val_acc: 0.8990\n"
     ]
    }
   ],
   "source": [
    "# defining and training the densely connected classifier\n",
    "\n",
    "model = models.Sequential()\n",
    "model.add(layers.Dense(256, activation='relu', input_dim=4 * 4 * 512))\n",
    "model.add(layers.Dropout(0.5))\n",
    "model.add(layers.Dense(1, activation='sigmoid'))\n",
    "\n",
    "model.compile(optimizer=optimizers.RMSprop(2e-5),\n",
    "             loss='binary_crossentropy',\n",
    "             metrics=['acc'])\n",
    "\n",
    "history = model.fit(train_features, train_labels,\n",
    "                   epochs=30,\n",
    "                   batch_size=20,\n",
    "                   validation_data=(validation_features, validation_labels))"
   ]
  },
  {
   "cell_type": "code",
   "execution_count": 6,
   "metadata": {},
   "outputs": [
    {
     "data": {
      "text/plain": [
       "<matplotlib.legend.Legend at 0x7f5b02aa3cc0>"
      ]
     },
     "execution_count": 6,
     "metadata": {},
     "output_type": "execute_result"
    },
    {
     "data": {
      "image/png": "[encoded data removed]",
      "text/plain": [
       "<Figure size 432x288 with 1 Axes>"
      ]
     },
     "metadata": {
      "needs_background": "light"
     },
     "output_type": "display_data"
    },
    {
     "data": {
      "image/png": "[encoded data removed]",
      "text/plain": [
       "<Figure size 432x288 with 1 Axes>"
      ]
     },
     "metadata": {
      "needs_background": "light"
     },
     "output_type": "display_data"
    }
   ],
   "source": [
    "# Display curves of loss and accuracy\n",
    "\n",
    "acc = history.history['acc']\n",
    "val_acc = history.history['val_acc']\n",
    "\n",
    "loss = history.history['loss'] \n",
    "val_loss = history.history['val_loss']\n",
    "\n",
    "epochs = range(1, len(acc) + 1)\n",
    "\n",
    "plt.plot(epochs, acc, 'b', label='Training acc')\n",
    "plt.plot(epochs, val_acc, 'r', label='Validation acc')\n",
    "plt.xlabel('Epoch')\n",
    "plt.ylabel('Accuracy')\n",
    "plt.legend()\n",
    "\n",
    "plt.figure()\n",
    "\n",
    "plt.plot(epochs, loss, 'b', label='Training loss')\n",
    "plt.plot(epochs, val_loss, 'r', label='Validation loss')\n",
    "plt.xlabel('Epoch')\n",
    "plt.ylabel('Loss')\n",
    "plt.legend()"
   ]
  },
  {
   "cell_type": "markdown",
   "metadata": {},
   "source": [
    "## feature extraction with data augmentation(slow) "
   ]
  },
  {
   "cell_type": "code",
   "execution_count": 35,
   "metadata": {},
   "outputs": [],
   "source": [
    "model = models.Sequential()\n",
    "model.add(conv_base)\n",
    "model.add(layers.Flatten())\n",
    "model.add(layers.Dense(256, activation='relu'))\n",
    "#model.add(layers.Dropout(0.5))\n",
    "model.add(layers.Dense(1, activation='sigmoid'))"
   ]
  },
  {
   "cell_type": "code",
   "execution_count": 36,
   "metadata": {},
   "outputs": [
    {
     "name": "stdout",
     "output_type": "stream",
     "text": [
      "Model: \"sequential_5\"\n",
      "_________________________________________________________________\n",
      "Layer (type)                 Output Shape              Param #   \n",
      "=================================================================\n",
      "vgg16 (Model)                (None, 4, 4, 512)         14714688  \n",
      "_________________________________________________________________\n",
      "flatten_4 (Flatten)          (None, 8192)              0         \n",
      "_________________________________________________________________\n",
      "dense_9 (Dense)              (None, 256)               2097408   \n",
      "_________________________________________________________________\n",
      "dropout_2 (Dropout)          (None, 256)               0         \n",
      "_________________________________________________________________\n",
      "dense_10 (Dense)             (None, 1)                 257       \n",
      "=================================================================\n",
      "Total params: 16,812,353\n",
      "Trainable params: 2,097,665\n",
      "Non-trainable params: 14,714,688\n",
      "_________________________________________________________________\n"
     ]
    }
   ],
   "source": [
    "model.summary()"
   ]
  },
  {
   "cell_type": "code",
   "execution_count": 37,
   "metadata": {},
   "outputs": [
    {
     "data": {
      "text/plain": [
       "4"
      ]
     },
     "execution_count": 37,
     "metadata": {},
     "output_type": "execute_result"
    }
   ],
   "source": [
    "# number of trainable weights before freezing the model\n",
    "len(model.trainable_weights)"
   ]
  },
  {
   "cell_type": "code",
   "execution_count": 38,
   "metadata": {},
   "outputs": [],
   "source": [
    "# Freeze the convolutional base of the model\n",
    "conv_base.trainable = False"
   ]
  },
  {
   "cell_type": "code",
   "execution_count": 39,
   "metadata": {},
   "outputs": [
    {
     "data": {
      "text/plain": [
       "4"
      ]
     },
     "execution_count": 39,
     "metadata": {},
     "output_type": "execute_result"
    }
   ],
   "source": [
    "# number of trainable weights after freezing the model\n",
    "len(model.trainable_weights)"
   ]
  },
  {
   "cell_type": "code",
   "execution_count": 40,
   "metadata": {},
   "outputs": [
    {
     "name": "stdout",
     "output_type": "stream",
     "text": [
      "Found 2000 images belonging to 2 classes.\n",
      "Found 2000 images belonging to 2 classes.\n",
      "Epoch 1/30\n",
      "100/100 [==============================] - 14s 136ms/step - loss: 0.7075 - acc: 0.5855 - val_loss: 0.5093 - val_acc: 0.7870\n",
      "Epoch 2/30\n",
      "100/100 [==============================] - 12s 120ms/step - loss: 0.5858 - acc: 0.6875 - val_loss: 0.4316 - val_acc: 0.8350\n",
      "Epoch 3/30\n",
      "100/100 [==============================] - 12s 123ms/step - loss: 0.5163 - acc: 0.7440 - val_loss: 0.3890 - val_acc: 0.8350\n",
      "Epoch 4/30\n",
      "100/100 [==============================] - 13s 125ms/step - loss: 0.4845 - acc: 0.7760 - val_loss: 0.3389 - val_acc: 0.8710\n",
      "Epoch 5/30\n",
      "100/100 [==============================] - 12s 122ms/step - loss: 0.4525 - acc: 0.7955 - val_loss: 0.3140 - val_acc: 0.8760\n",
      "Epoch 6/30\n",
      "100/100 [==============================] - 12s 121ms/step - loss: 0.4462 - acc: 0.7870 - val_loss: 0.3273 - val_acc: 0.8670\n",
      "Epoch 7/30\n",
      "100/100 [==============================] - 12s 120ms/step - loss: 0.4280 - acc: 0.8020 - val_loss: 0.3057 - val_acc: 0.8700\n",
      "Epoch 8/30\n",
      "100/100 [==============================] - 12s 122ms/step - loss: 0.4153 - acc: 0.8020 - val_loss: 0.2961 - val_acc: 0.8760\n",
      "Epoch 9/30\n",
      "100/100 [==============================] - 12s 120ms/step - loss: 0.4055 - acc: 0.7990 - val_loss: 0.2679 - val_acc: 0.8900\n",
      "Epoch 10/30\n",
      "100/100 [==============================] - 12s 122ms/step - loss: 0.4040 - acc: 0.8175 - val_loss: 0.2910 - val_acc: 0.8890\n",
      "Epoch 11/30\n",
      "100/100 [==============================] - 12s 120ms/step - loss: 0.3911 - acc: 0.8215 - val_loss: 0.2591 - val_acc: 0.8970\n",
      "Epoch 12/30\n",
      "100/100 [==============================] - 12s 122ms/step - loss: 0.3757 - acc: 0.8315 - val_loss: 0.2830 - val_acc: 0.8890\n",
      "Epoch 13/30\n",
      "100/100 [==============================] - 12s 120ms/step - loss: 0.3735 - acc: 0.8280 - val_loss: 0.2651 - val_acc: 0.8930\n",
      "Epoch 14/30\n",
      "100/100 [==============================] - 12s 120ms/step - loss: 0.3610 - acc: 0.8300 - val_loss: 0.2729 - val_acc: 0.8810\n",
      "Epoch 15/30\n",
      "100/100 [==============================] - 12s 123ms/step - loss: 0.3721 - acc: 0.8300 - val_loss: 0.2548 - val_acc: 0.8870\n",
      "Epoch 16/30\n",
      "100/100 [==============================] - 12s 121ms/step - loss: 0.3517 - acc: 0.8430 - val_loss: 0.2306 - val_acc: 0.9130\n",
      "Epoch 17/30\n",
      "100/100 [==============================] - 12s 121ms/step - loss: 0.3564 - acc: 0.8420 - val_loss: 0.2430 - val_acc: 0.9010\n",
      "Epoch 18/30\n",
      "100/100 [==============================] - 12s 120ms/step - loss: 0.3622 - acc: 0.8390 - val_loss: 0.2308 - val_acc: 0.9100\n",
      "Epoch 19/30\n",
      "100/100 [==============================] - 12s 121ms/step - loss: 0.3477 - acc: 0.8415 - val_loss: 0.2160 - val_acc: 0.9160\n",
      "Epoch 20/30\n",
      "100/100 [==============================] - 12s 122ms/step - loss: 0.3606 - acc: 0.8355 - val_loss: 0.2415 - val_acc: 0.9030\n",
      "Epoch 21/30\n",
      "100/100 [==============================] - 12s 121ms/step - loss: 0.3423 - acc: 0.8480 - val_loss: 0.2364 - val_acc: 0.9040\n",
      "Epoch 22/30\n",
      "100/100 [==============================] - 12s 122ms/step - loss: 0.3421 - acc: 0.8470 - val_loss: 0.2241 - val_acc: 0.9060\n",
      "Epoch 23/30\n",
      "100/100 [==============================] - 12s 123ms/step - loss: 0.3256 - acc: 0.8635 - val_loss: 0.2263 - val_acc: 0.9090\n",
      "Epoch 24/30\n",
      "100/100 [==============================] - 12s 123ms/step - loss: 0.3373 - acc: 0.8455 - val_loss: 0.2159 - val_acc: 0.9180\n",
      "Epoch 25/30\n",
      "100/100 [==============================] - 12s 121ms/step - loss: 0.3334 - acc: 0.8440 - val_loss: 0.2103 - val_acc: 0.9220\n",
      "Epoch 26/30\n",
      "100/100 [==============================] - 12s 121ms/step - loss: 0.3352 - acc: 0.8590 - val_loss: 0.2215 - val_acc: 0.9100\n",
      "Epoch 27/30\n",
      "100/100 [==============================] - 12s 122ms/step - loss: 0.3243 - acc: 0.8495 - val_loss: 0.2170 - val_acc: 0.9120\n",
      "Epoch 28/30\n",
      "100/100 [==============================] - 12s 121ms/step - loss: 0.3407 - acc: 0.8585 - val_loss: 0.2139 - val_acc: 0.9160\n",
      "Epoch 29/30\n",
      "100/100 [==============================] - 12s 121ms/step - loss: 0.3415 - acc: 0.8435 - val_loss: 0.2250 - val_acc: 0.9120\n",
      "Epoch 30/30\n",
      "100/100 [==============================] - 12s 121ms/step - loss: 0.3260 - acc: 0.8495 - val_loss: 0.2197 - val_acc: 0.9070\n"
     ]
    }
   ],
   "source": [
    "# training the model end to end with a frozen convolutional base\n",
    "\n",
    "train_datagen = ImageDataGenerator(\n",
    "    rescale=1./255,\n",
    "    rotation_range=40,\n",
    "    width_shift_range=0.2,\n",
    "    height_shift_range=0.2,\n",
    "    shear_range=0.2,\n",
    "    zoom_range=0.2,\n",
    "    horizontal_flip=True,\n",
    "    fill_mode='nearest')\n",
    "\n",
    "test_datagen = ImageDataGenerator(rescale=1./255)\n",
    "\n",
    "train_generator = train_datagen.flow_from_directory(\n",
    "    train_dir,\n",
    "    target_size=(150, 150),\n",
    "    batch_size=20,\n",
    "    class_mode='binary')\n",
    "\n",
    "validation_generator = test_datagen.flow_from_directory(\n",
    "    train_dir,\n",
    "    target_size=(150, 150),\n",
    "    batch_size=20,\n",
    "    class_mode='binary')\n",
    " \n",
    "model.compile(loss='binary_crossentropy',\n",
    "             optimizer=optimizers.RMSprop(lr=2e-5),\n",
    "             metrics=['acc'])\n",
    "\n",
    "history = model.fit_generator(\n",
    "    train_generator,\n",
    "    steps_per_epoch=100,\n",
    "    epochs=30,\n",
    "    validation_data=validation_generator,\n",
    "    validation_steps=50)"
   ]
  },
  {
   "cell_type": "code",
   "execution_count": 41,
   "metadata": {},
   "outputs": [
    {
     "data": {
      "text/plain": [
       "<matplotlib.legend.Legend at 0x7f5b010c4cf8>"
      ]
     },
     "execution_count": 41,
     "metadata": {},
     "output_type": "execute_result"
    },
    {
     "data": {
      "image/png": "[encoded data removed]",
      "text/plain": [
       "<Figure size 432x288 with 1 Axes>"
      ]
     },
     "metadata": {
      "needs_background": "light"
     },
     "output_type": "display_data"
    },
    {
     "data": {
      "image/png": "[encoded data removed]",
      "text/plain": [
       "<Figure size 432x288 with 1 Axes>"
      ]
     },
     "metadata": {
      "needs_background": "light"
     },
     "output_type": "display_data"
    }
   ],
   "source": [
    "# Display curves of loss and accuracy\n",
    "\n",
    "acc = history.history['acc']\n",
    "val_acc = history.history['val_acc']\n",
    "\n",
    "loss = history.history['loss'] \n",
    "val_loss = history.history['val_loss']\n",
    "\n",
    "epochs = range(1, len(acc) + 1)\n",
    "\n",
    "plt.plot(epochs, acc, 'b', label='Training acc')\n",
    "plt.plot(epochs, val_acc, 'r', label='Validation acc')\n",
    "plt.xlabel('Epoch')\n",
    "plt.ylabel('Accuracy')\n",
    "plt.legend()\n",
    "\n",
    "plt.figure()\n",
    "\n",
    "plt.plot(epochs, loss, 'b', label='Training loss')\n",
    "plt.plot(epochs, val_loss, 'r', label='Validation loss')\n",
    "plt.xlabel('Epoch')\n",
    "plt.ylabel('Loss')\n",
    "plt.legend()"
   ]
  },
  {
   "cell_type": "markdown",
   "metadata": {},
   "source": [
    "## Fine-tuning\n",
    "\n",
    "Fine-tuning consists of unfreezing a few of the deep layers of a frozen model base\n",
    "\n",
    "Steps:\n",
    "1. Add custom network on top of an arealdy-trained base network\n",
    "2. Freeze the base network\n",
    "3. Train the added part (usually the classifier, that is, the Dense part)\n",
    "4. Unfreeze some layers in the base network\n",
    "5. Jointly train both these layers and the added part\n",
    "\n",
    "Steps 1, 2 e 3 completed when doing feature extraction."
   ]
  },
  {
   "cell_type": "code",
   "execution_count": 42,
   "metadata": {},
   "outputs": [],
   "source": [
    "# Freezing all layers up to a specific one\n",
    "conv_base.trainable = True\n",
    "set_trainable = False\n",
    "for layer in conv_base.layers:\n",
    "    if layer.name == 'block5_conv1': \n",
    "        set_trainable = True\n",
    "    if set_trainable:\n",
    "        layer.trainable = True\n",
    "    else:\n",
    "        layer.trainable = False"
   ]
  },
  {
   "cell_type": "code",
   "execution_count": 43,
   "metadata": {},
   "outputs": [
    {
     "name": "stdout",
     "output_type": "stream",
     "text": [
      "Epoch 1/100\n",
      "100/100 [==============================] - 14s 138ms/step - loss: 0.3281 - acc: 0.8525 - val_loss: 0.1767 - val_acc: 0.9240\n",
      "Epoch 2/100\n",
      "100/100 [==============================] - 12s 124ms/step - loss: 0.2800 - acc: 0.8775 - val_loss: 0.1550 - val_acc: 0.9310\n",
      "Epoch 3/100\n",
      "100/100 [==============================] - 12s 124ms/step - loss: 0.2533 - acc: 0.8915 - val_loss: 0.1902 - val_acc: 0.9180\n",
      "Epoch 4/100\n",
      "100/100 [==============================] - 12s 124ms/step - loss: 0.2536 - acc: 0.8940 - val_loss: 0.1488 - val_acc: 0.9420\n",
      "Epoch 5/100\n",
      "100/100 [==============================] - 12s 124ms/step - loss: 0.2188 - acc: 0.9050 - val_loss: 0.1249 - val_acc: 0.9460\n",
      "Epoch 6/100\n",
      "100/100 [==============================] - 12s 124ms/step - loss: 0.2282 - acc: 0.9085 - val_loss: 0.1061 - val_acc: 0.9580\n",
      "Epoch 7/100\n",
      "100/100 [==============================] - 12s 125ms/step - loss: 0.1920 - acc: 0.9240 - val_loss: 0.1023 - val_acc: 0.9610\n",
      "Epoch 8/100\n",
      "100/100 [==============================] - 12s 125ms/step - loss: 0.1901 - acc: 0.9245 - val_loss: 0.0876 - val_acc: 0.9670\n",
      "Epoch 9/100\n",
      "100/100 [==============================] - 12s 125ms/step - loss: 0.1876 - acc: 0.9210 - val_loss: 0.0945 - val_acc: 0.9610\n",
      "Epoch 10/100\n",
      "100/100 [==============================] - 12s 124ms/step - loss: 0.1914 - acc: 0.9165 - val_loss: 0.0876 - val_acc: 0.9700\n",
      "Epoch 11/100\n",
      "100/100 [==============================] - 12s 125ms/step - loss: 0.1785 - acc: 0.9295 - val_loss: 0.0730 - val_acc: 0.9740\n",
      "Epoch 12/100\n",
      "100/100 [==============================] - 12s 125ms/step - loss: 0.1458 - acc: 0.9465 - val_loss: 0.0696 - val_acc: 0.9770\n",
      "Epoch 13/100\n",
      "100/100 [==============================] - 12s 125ms/step - loss: 0.1466 - acc: 0.9430 - val_loss: 0.0669 - val_acc: 0.9770\n",
      "Epoch 14/100\n",
      "100/100 [==============================] - 12s 124ms/step - loss: 0.1353 - acc: 0.9480 - val_loss: 0.0576 - val_acc: 0.9830\n",
      "Epoch 15/100\n",
      "100/100 [==============================] - 13s 125ms/step - loss: 0.1425 - acc: 0.9400 - val_loss: 0.0469 - val_acc: 0.9810\n",
      "Epoch 16/100\n",
      "100/100 [==============================] - 12s 124ms/step - loss: 0.1239 - acc: 0.9475 - val_loss: 0.0610 - val_acc: 0.9800\n",
      "Epoch 17/100\n",
      "100/100 [==============================] - 12s 123ms/step - loss: 0.1283 - acc: 0.9460 - val_loss: 0.0669 - val_acc: 0.9740\n",
      "Epoch 18/100\n",
      "100/100 [==============================] - 13s 125ms/step - loss: 0.1181 - acc: 0.9555 - val_loss: 0.0505 - val_acc: 0.9820\n",
      "Epoch 19/100\n",
      "100/100 [==============================] - 12s 122ms/step - loss: 0.1238 - acc: 0.9470 - val_loss: 0.0389 - val_acc: 0.9890\n",
      "Epoch 20/100\n",
      "100/100 [==============================] - 12s 125ms/step - loss: 0.1358 - acc: 0.9480 - val_loss: 0.0396 - val_acc: 0.9910\n",
      "Epoch 21/100\n",
      "100/100 [==============================] - 12s 124ms/step - loss: 0.0957 - acc: 0.9610 - val_loss: 0.0617 - val_acc: 0.9760\n",
      "Epoch 22/100\n",
      "100/100 [==============================] - 13s 128ms/step - loss: 0.1034 - acc: 0.9640 - val_loss: 0.0326 - val_acc: 0.9910\n",
      "Epoch 23/100\n",
      "100/100 [==============================] - 13s 125ms/step - loss: 0.1068 - acc: 0.9600 - val_loss: 0.0345 - val_acc: 0.9890\n",
      "Epoch 24/100\n",
      "100/100 [==============================] - 12s 125ms/step - loss: 0.1020 - acc: 0.9635 - val_loss: 0.0268 - val_acc: 0.9920\n",
      "Epoch 25/100\n",
      "100/100 [==============================] - 12s 125ms/step - loss: 0.0967 - acc: 0.9640 - val_loss: 0.0290 - val_acc: 0.9900\n",
      "Epoch 26/100\n",
      "100/100 [==============================] - 12s 124ms/step - loss: 0.0934 - acc: 0.9660 - val_loss: 0.0271 - val_acc: 0.9870\n",
      "Epoch 27/100\n",
      "100/100 [==============================] - 13s 126ms/step - loss: 0.1025 - acc: 0.9595 - val_loss: 0.0175 - val_acc: 0.9970\n",
      "Epoch 28/100\n",
      "100/100 [==============================] - 12s 123ms/step - loss: 0.0826 - acc: 0.9680 - val_loss: 0.0388 - val_acc: 0.9880\n",
      "Epoch 29/100\n",
      "100/100 [==============================] - 12s 124ms/step - loss: 0.0854 - acc: 0.9720 - val_loss: 0.0443 - val_acc: 0.9840\n",
      "Epoch 30/100\n",
      "100/100 [==============================] - 12s 124ms/step - loss: 0.0787 - acc: 0.9720 - val_loss: 0.0486 - val_acc: 0.9830\n",
      "Epoch 31/100\n",
      "100/100 [==============================] - 12s 124ms/step - loss: 0.0747 - acc: 0.9695 - val_loss: 0.0350 - val_acc: 0.9870\n",
      "Epoch 32/100\n",
      "100/100 [==============================] - 12s 125ms/step - loss: 0.0842 - acc: 0.9685 - val_loss: 0.0194 - val_acc: 0.9920\n",
      "Epoch 33/100\n",
      "100/100 [==============================] - 12s 124ms/step - loss: 0.0797 - acc: 0.9690 - val_loss: 0.0164 - val_acc: 0.9940\n",
      "Epoch 34/100\n",
      "100/100 [==============================] - 13s 127ms/step - loss: 0.0817 - acc: 0.9685 - val_loss: 0.0208 - val_acc: 0.9920\n",
      "Epoch 35/100\n",
      "100/100 [==============================] - 12s 125ms/step - loss: 0.0687 - acc: 0.9725 - val_loss: 0.0068 - val_acc: 0.9990\n",
      "Epoch 36/100\n",
      "100/100 [==============================] - 12s 124ms/step - loss: 0.0611 - acc: 0.9750 - val_loss: 0.0261 - val_acc: 0.9910\n",
      "Epoch 37/100\n",
      "100/100 [==============================] - 13s 126ms/step - loss: 0.0592 - acc: 0.9780 - val_loss: 0.0066 - val_acc: 1.0000\n",
      "Epoch 38/100\n",
      "100/100 [==============================] - 12s 124ms/step - loss: 0.0701 - acc: 0.9745 - val_loss: 0.0206 - val_acc: 0.9930\n",
      "Epoch 39/100\n",
      "100/100 [==============================] - 12s 123ms/step - loss: 0.0505 - acc: 0.9810 - val_loss: 0.0109 - val_acc: 0.9980\n",
      "Epoch 40/100\n",
      "100/100 [==============================] - 12s 123ms/step - loss: 0.0540 - acc: 0.9800 - val_loss: 0.0367 - val_acc: 0.9840\n",
      "Epoch 41/100\n",
      "100/100 [==============================] - 12s 123ms/step - loss: 0.0725 - acc: 0.9715 - val_loss: 0.0098 - val_acc: 0.9980\n",
      "Epoch 42/100\n",
      "100/100 [==============================] - 12s 123ms/step - loss: 0.0668 - acc: 0.9730 - val_loss: 0.0171 - val_acc: 0.9950\n",
      "Epoch 43/100\n",
      "100/100 [==============================] - 13s 126ms/step - loss: 0.0620 - acc: 0.9805 - val_loss: 0.0088 - val_acc: 0.9960\n",
      "Epoch 44/100\n",
      "100/100 [==============================] - 12s 123ms/step - loss: 0.0573 - acc: 0.9790 - val_loss: 0.0056 - val_acc: 0.9980\n",
      "Epoch 45/100\n",
      "100/100 [==============================] - 12s 123ms/step - loss: 0.0536 - acc: 0.9790 - val_loss: 0.0103 - val_acc: 0.9960\n",
      "Epoch 46/100\n",
      "100/100 [==============================] - 12s 123ms/step - loss: 0.0560 - acc: 0.9815 - val_loss: 0.0219 - val_acc: 0.9890\n",
      "Epoch 47/100\n",
      "100/100 [==============================] - 12s 122ms/step - loss: 0.0487 - acc: 0.9840 - val_loss: 0.0042 - val_acc: 1.0000\n",
      "Epoch 48/100\n",
      "100/100 [==============================] - 12s 124ms/step - loss: 0.0545 - acc: 0.9805 - val_loss: 0.0061 - val_acc: 1.0000\n",
      "Epoch 49/100\n",
      "100/100 [==============================] - 12s 123ms/step - loss: 0.0601 - acc: 0.9780 - val_loss: 0.0061 - val_acc: 0.9970\n",
      "Epoch 50/100\n",
      "100/100 [==============================] - 12s 123ms/step - loss: 0.0504 - acc: 0.9795 - val_loss: 0.0054 - val_acc: 1.0000\n",
      "Epoch 51/100\n",
      "100/100 [==============================] - 12s 123ms/step - loss: 0.0371 - acc: 0.9850 - val_loss: 0.0062 - val_acc: 0.9980\n",
      "Epoch 52/100\n",
      "100/100 [==============================] - 12s 122ms/step - loss: 0.0492 - acc: 0.9820 - val_loss: 0.0034 - val_acc: 1.0000\n",
      "Epoch 53/100\n",
      "100/100 [==============================] - 12s 125ms/step - loss: 0.0536 - acc: 0.9785 - val_loss: 0.0035 - val_acc: 1.0000\n",
      "Epoch 54/100\n",
      "100/100 [==============================] - 12s 123ms/step - loss: 0.0482 - acc: 0.9830 - val_loss: 0.0018 - val_acc: 1.0000\n",
      "Epoch 55/100\n",
      "100/100 [==============================] - 12s 124ms/step - loss: 0.0397 - acc: 0.9845 - val_loss: 0.0054 - val_acc: 0.9990\n",
      "Epoch 56/100\n",
      "100/100 [==============================] - 12s 124ms/step - loss: 0.0401 - acc: 0.9855 - val_loss: 9.9822e-04 - val_acc: 1.0000\n",
      "Epoch 57/100\n",
      "100/100 [==============================] - 13s 125ms/step - loss: 0.0342 - acc: 0.9885 - val_loss: 0.0080 - val_acc: 0.9970\n",
      "Epoch 58/100\n",
      "100/100 [==============================] - 13s 134ms/step - loss: 0.0322 - acc: 0.9870 - val_loss: 0.0012 - val_acc: 1.0000\n",
      "Epoch 59/100\n",
      "100/100 [==============================] - 13s 126ms/step - loss: 0.0322 - acc: 0.9865 - val_loss: 0.0106 - val_acc: 0.9960\n",
      "Epoch 60/100\n",
      "100/100 [==============================] - 12s 124ms/step - loss: 0.0500 - acc: 0.9800 - val_loss: 0.0112 - val_acc: 0.9960\n",
      "Epoch 61/100\n",
      "100/100 [==============================] - 13s 128ms/step - loss: 0.0397 - acc: 0.9855 - val_loss: 0.0022 - val_acc: 1.0000\n",
      "Epoch 62/100\n",
      "100/100 [==============================] - 12s 123ms/step - loss: 0.0378 - acc: 0.9850 - val_loss: 0.0026 - val_acc: 0.9990\n",
      "Epoch 63/100\n",
      "100/100 [==============================] - 12s 123ms/step - loss: 0.0292 - acc: 0.9925 - val_loss: 0.0148 - val_acc: 0.9920\n",
      "Epoch 64/100\n",
      "100/100 [==============================] - 12s 123ms/step - loss: 0.0353 - acc: 0.9875 - val_loss: 0.0024 - val_acc: 0.9990\n",
      "Epoch 65/100\n",
      "100/100 [==============================] - 13s 125ms/step - loss: 0.0420 - acc: 0.9865 - val_loss: 0.0079 - val_acc: 0.9980\n",
      "Epoch 66/100\n",
      "100/100 [==============================] - 12s 124ms/step - loss: 0.0412 - acc: 0.9865 - val_loss: 0.0104 - val_acc: 0.9970\n",
      "Epoch 67/100\n",
      "100/100 [==============================] - 12s 124ms/step - loss: 0.0281 - acc: 0.9895 - val_loss: 0.0013 - val_acc: 1.0000\n",
      "Epoch 68/100\n",
      "100/100 [==============================] - 12s 123ms/step - loss: 0.0333 - acc: 0.9865 - val_loss: 0.0038 - val_acc: 1.0000\n",
      "Epoch 69/100\n",
      "100/100 [==============================] - 12s 124ms/step - loss: 0.0301 - acc: 0.9885 - val_loss: 0.0024 - val_acc: 0.9990\n",
      "Epoch 70/100\n",
      "100/100 [==============================] - 12s 122ms/step - loss: 0.0434 - acc: 0.9845 - val_loss: 0.0032 - val_acc: 1.0000\n",
      "Epoch 71/100\n",
      "100/100 [==============================] - 12s 124ms/step - loss: 0.0280 - acc: 0.9905 - val_loss: 0.0056 - val_acc: 0.9990\n",
      "Epoch 72/100\n",
      "100/100 [==============================] - 12s 124ms/step - loss: 0.0312 - acc: 0.9905 - val_loss: 0.0031 - val_acc: 1.0000\n",
      "Epoch 73/100\n",
      "100/100 [==============================] - 12s 124ms/step - loss: 0.0358 - acc: 0.9875 - val_loss: 0.0019 - val_acc: 0.9990\n",
      "Epoch 74/100\n",
      "100/100 [==============================] - 12s 123ms/step - loss: 0.0331 - acc: 0.9895 - val_loss: 0.0025 - val_acc: 1.0000\n",
      "Epoch 75/100\n",
      "100/100 [==============================] - 13s 125ms/step - loss: 0.0362 - acc: 0.9885 - val_loss: 0.0474 - val_acc: 0.9790\n",
      "Epoch 76/100\n",
      "100/100 [==============================] - 12s 123ms/step - loss: 0.0285 - acc: 0.9900 - val_loss: 0.0015 - val_acc: 1.0000\n",
      "Epoch 77/100\n",
      "100/100 [==============================] - 12s 124ms/step - loss: 0.0275 - acc: 0.9880 - val_loss: 0.0047 - val_acc: 0.9990\n",
      "Epoch 78/100\n",
      "100/100 [==============================] - 12s 125ms/step - loss: 0.0302 - acc: 0.9900 - val_loss: 0.0036 - val_acc: 1.0000\n",
      "Epoch 79/100\n",
      "100/100 [==============================] - 12s 124ms/step - loss: 0.0326 - acc: 0.9875 - val_loss: 3.3105e-04 - val_acc: 1.0000\n",
      "Epoch 80/100\n",
      "100/100 [==============================] - 12s 125ms/step - loss: 0.0339 - acc: 0.9880 - val_loss: 0.0021 - val_acc: 1.0000\n",
      "Epoch 81/100\n",
      "100/100 [==============================] - 12s 124ms/step - loss: 0.0340 - acc: 0.9880 - val_loss: 0.0010 - val_acc: 1.0000\n",
      "Epoch 82/100\n",
      "100/100 [==============================] - 13s 127ms/step - loss: 0.0371 - acc: 0.9870 - val_loss: 0.0016 - val_acc: 1.0000\n",
      "Epoch 83/100\n",
      "100/100 [==============================] - 12s 123ms/step - loss: 0.0223 - acc: 0.9910 - val_loss: 0.0034 - val_acc: 0.9990\n",
      "Epoch 84/100\n",
      "100/100 [==============================] - 12s 123ms/step - loss: 0.0315 - acc: 0.9895 - val_loss: 3.5776e-04 - val_acc: 1.0000\n",
      "Epoch 85/100\n",
      "100/100 [==============================] - 12s 124ms/step - loss: 0.0316 - acc: 0.9890 - val_loss: 8.5255e-04 - val_acc: 1.0000\n",
      "Epoch 86/100\n",
      "100/100 [==============================] - 12s 124ms/step - loss: 0.0195 - acc: 0.9935 - val_loss: 0.0027 - val_acc: 1.0000\n",
      "Epoch 87/100\n",
      "100/100 [==============================] - 12s 123ms/step - loss: 0.0178 - acc: 0.9965 - val_loss: 7.9109e-04 - val_acc: 1.0000\n",
      "Epoch 88/100\n",
      "100/100 [==============================] - 12s 123ms/step - loss: 0.0329 - acc: 0.9900 - val_loss: 3.5385e-04 - val_acc: 1.0000\n",
      "Epoch 89/100\n",
      "100/100 [==============================] - 12s 123ms/step - loss: 0.0199 - acc: 0.9920 - val_loss: 2.6311e-04 - val_acc: 1.0000\n",
      "Epoch 90/100\n",
      "100/100 [==============================] - 12s 122ms/step - loss: 0.0277 - acc: 0.9890 - val_loss: 5.2728e-04 - val_acc: 1.0000\n",
      "Epoch 91/100\n",
      "100/100 [==============================] - 13s 126ms/step - loss: 0.0224 - acc: 0.9930 - val_loss: 0.0011 - val_acc: 1.0000\n",
      "Epoch 92/100\n",
      "100/100 [==============================] - 12s 124ms/step - loss: 0.0257 - acc: 0.9900 - val_loss: 0.0094 - val_acc: 0.9970\n",
      "Epoch 93/100\n",
      "100/100 [==============================] - 12s 124ms/step - loss: 0.0282 - acc: 0.9900 - val_loss: 0.0012 - val_acc: 1.0000\n",
      "Epoch 94/100\n",
      "100/100 [==============================] - 12s 123ms/step - loss: 0.0264 - acc: 0.9900 - val_loss: 1.2688e-04 - val_acc: 1.0000\n",
      "Epoch 95/100\n",
      "100/100 [==============================] - 12s 123ms/step - loss: 0.0223 - acc: 0.9925 - val_loss: 0.0073 - val_acc: 0.9970\n",
      "Epoch 96/100\n",
      "100/100 [==============================] - 12s 125ms/step - loss: 0.0260 - acc: 0.9890 - val_loss: 0.0027 - val_acc: 0.9990\n",
      "Epoch 97/100\n",
      "100/100 [==============================] - 12s 124ms/step - loss: 0.0293 - acc: 0.9905 - val_loss: 4.6009e-04 - val_acc: 1.0000\n",
      "Epoch 98/100\n",
      "100/100 [==============================] - 12s 124ms/step - loss: 0.0224 - acc: 0.9915 - val_loss: 0.0035 - val_acc: 0.9990\n",
      "Epoch 99/100\n",
      "100/100 [==============================] - 13s 125ms/step - loss: 0.0214 - acc: 0.9915 - val_loss: 0.0071 - val_acc: 0.9980\n",
      "Epoch 100/100\n",
      "100/100 [==============================] - 12s 123ms/step - loss: 0.0201 - acc: 0.9925 - val_loss: 2.4611e-04 - val_acc: 1.0000\n"
     ]
    }
   ],
   "source": [
    "# fine-tuning the model\n",
    "#very low LR to not harm learned representations\n",
    "model.compile(loss='binary_crossentropy',\n",
    "             optimizer=optimizers.RMSprop(lr=1e-5), \n",
    "             metrics=['acc'])\n",
    "\n",
    "history = model.fit_generator(\n",
    "    train_generator,\n",
    "    steps_per_epoch=100,\n",
    "    epochs=100,\n",
    "    validation_data=validation_generator,\n",
    "    validation_steps=50)\n"
   ]
  },
  {
   "cell_type": "code",
   "execution_count": 44,
   "metadata": {},
   "outputs": [
    {
     "data": {
      "text/plain": [
       "<matplotlib.legend.Legend at 0x7f5b00a978d0>"
      ]
     },
     "execution_count": 44,
     "metadata": {},
     "output_type": "execute_result"
    },
    {
     "data": {
      "image/png": "[encoded data removed]",
      "text/plain": [
       "<Figure size 432x288 with 1 Axes>"
      ]
     },
     "metadata": {
      "needs_background": "light"
     },
     "output_type": "display_data"
    },
    {
     "data": {
      "image/png": "[encoded data removed]",
      "text/plain": [
       "<Figure size 432x288 with 1 Axes>"
      ]
     },
     "metadata": {
      "needs_background": "light"
     },
     "output_type": "display_data"
    }
   ],
   "source": [
    "# Display curves of loss and accuracy\n",
    "\n",
    "acc = history.history['acc']\n",
    "val_acc = history.history['val_acc']\n",
    "\n",
    "loss = history.history['loss'] \n",
    "val_loss = history.history['val_loss']\n",
    "\n",
    "epochs = range(1, len(acc) + 1)\n",
    "\n",
    "plt.plot(epochs, acc, 'b', label='Training acc')\n",
    "plt.plot(epochs, val_acc, 'r', label='Validation acc')\n",
    "plt.xlabel('Epoch')\n",
    "plt.ylabel('Accuracy')\n",
    "plt.legend()\n",
    "\n",
    "plt.figure()\n",
    "\n",
    "plt.plot(epochs, loss, 'b', label='Training loss')\n",
    "plt.plot(epochs, val_loss, 'r', label='Validation loss')\n",
    "plt.xlabel('Epoch')\n",
    "plt.ylabel('Loss')\n",
    "plt.legend()"
   ]
  },
  {
   "cell_type": "code",
   "execution_count": 47,
   "metadata": {},
   "outputs": [
    {
     "name": "stdout",
     "output_type": "stream",
     "text": [
      "Found 1000 images belonging to 2 classes.\n",
      "test acc: 0.9399999916553498\n",
      "test loss: 0.3376662297892835\n"
     ]
    }
   ],
   "source": [
    "# evaluate the model on the test data\n",
    "test_generator = test_datagen.flow_from_directory(\n",
    "    test_dir,\n",
    "    target_size=(150,150),\n",
    "    batch_size=20,\n",
    "    class_mode='binary')\n",
    "\n",
    "test_loss, test_acc = model.evaluate_generator(test_generator, steps=50)\n",
    "print('test acc:', test_acc)\n",
    "print('test loss:', test_loss)"
   ]
  }
 ],
 "metadata": {
  "kernelspec": {
   "display_name": "Python 3",
   "language": "python",
   "name": "python3"
  },
  "language_info": {
   "codemirror_mode": {
    "name": "ipython",
    "version": 3
   },
   "file_extension": ".py",
   "mimetype": "text/x-python",
   "name": "python",
   "nbconvert_exporter": "python",
   "pygments_lexer": "ipython3",
   "version": "3.6.8"
  }
 },
 "nbformat": 4,
 "nbformat_minor": 4
}
