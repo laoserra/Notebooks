{
 "cells": [
  {
   "cell_type": "code",
   "execution_count": 7,
   "metadata": {},
   "outputs": [],
   "source": [
    "import os\n",
    "import pandas as pd\n",
    "import csv\n",
    "from datetime import datetime\n",
    "import collections"
   ]
  },
  {
   "cell_type": "code",
   "execution_count": 8,
   "metadata": {},
   "outputs": [
    {
     "data": {
      "text/html": [
       "<div>\n",
       "<style scoped>\n",
       "    .dataframe tbody tr th:only-of-type {\n",
       "        vertical-align: middle;\n",
       "    }\n",
       "\n",
       "    .dataframe tbody tr th {\n",
       "        vertical-align: top;\n",
       "    }\n",
       "\n",
       "    .dataframe thead th {\n",
       "        text-align: right;\n",
       "    }\n",
       "</style>\n",
       "<table border=\"1\" class=\"dataframe\">\n",
       "  <thead>\n",
       "    <tr style=\"text-align: right;\">\n",
       "      <th></th>\n",
       "      <th>Unnamed: 0</th>\n",
       "      <th>image_id</th>\n",
       "      <th>object</th>\n",
       "      <th>coordinates</th>\n",
       "      <th>score</th>\n",
       "    </tr>\n",
       "  </thead>\n",
       "  <tbody>\n",
       "    <tr>\n",
       "      <td>0</td>\n",
       "      <td>0</td>\n",
       "      <td>1574167501906_A66_2019_11_19__12_45_5.jpg</td>\n",
       "      <td>person</td>\n",
       "      <td>{'left': 315.2207946777344, 'right': 386.18133...</td>\n",
       "      <td>0.998583</td>\n",
       "    </tr>\n",
       "    <tr>\n",
       "      <td>1</td>\n",
       "      <td>1</td>\n",
       "      <td>1574167501906_A66_2019_11_19__12_45_5.jpg</td>\n",
       "      <td>car</td>\n",
       "      <td>{'left': 477.3667526245117, 'right': 636.42704...</td>\n",
       "      <td>0.996670</td>\n",
       "    </tr>\n",
       "    <tr>\n",
       "      <td>2</td>\n",
       "      <td>2</td>\n",
       "      <td>1574167501906_A66_2019_11_19__12_45_5.jpg</td>\n",
       "      <td>car</td>\n",
       "      <td>{'left': 877.5014495849609, 'right': 1089.0686...</td>\n",
       "      <td>0.995281</td>\n",
       "    </tr>\n",
       "    <tr>\n",
       "      <td>3</td>\n",
       "      <td>3</td>\n",
       "      <td>1574167501906_A66_2019_11_19__12_45_5.jpg</td>\n",
       "      <td>car</td>\n",
       "      <td>{'left': 703.0149078369141, 'right': 857.67539...</td>\n",
       "      <td>0.994955</td>\n",
       "    </tr>\n",
       "    <tr>\n",
       "      <td>4</td>\n",
       "      <td>4</td>\n",
       "      <td>1574167501906_A66_2019_11_19__12_45_5.jpg</td>\n",
       "      <td>truck</td>\n",
       "      <td>{'left': 395.87406158447266, 'right': 571.4951...</td>\n",
       "      <td>0.984648</td>\n",
       "    </tr>\n",
       "    <tr>\n",
       "      <td>...</td>\n",
       "      <td>...</td>\n",
       "      <td>...</td>\n",
       "      <td>...</td>\n",
       "      <td>...</td>\n",
       "      <td>...</td>\n",
       "    </tr>\n",
       "    <tr>\n",
       "      <td>77</td>\n",
       "      <td>77</td>\n",
       "      <td>1574167501906_A03_2019_11_19__12_45_2.jpg</td>\n",
       "      <td>person</td>\n",
       "      <td>{'left': 1244.4189453125, 'right': 1273.880920...</td>\n",
       "      <td>0.614862</td>\n",
       "    </tr>\n",
       "    <tr>\n",
       "      <td>78</td>\n",
       "      <td>78</td>\n",
       "      <td>1574167501906_A03_2019_11_19__12_45_2.jpg</td>\n",
       "      <td>person</td>\n",
       "      <td>{'left': 1.363002061843872, 'right': 24.216156...</td>\n",
       "      <td>0.601963</td>\n",
       "    </tr>\n",
       "    <tr>\n",
       "      <td>79</td>\n",
       "      <td>79</td>\n",
       "      <td>1574167501906_A03_2019_11_19__12_45_2.jpg</td>\n",
       "      <td>person</td>\n",
       "      <td>{'left': 913.76953125, 'right': 938.1816101074...</td>\n",
       "      <td>0.589023</td>\n",
       "    </tr>\n",
       "    <tr>\n",
       "      <td>80</td>\n",
       "      <td>80</td>\n",
       "      <td>1574167501906_A03_2019_11_19__12_45_2.jpg</td>\n",
       "      <td>person</td>\n",
       "      <td>{'left': 546.6290283203125, 'right': 569.96192...</td>\n",
       "      <td>0.546030</td>\n",
       "    </tr>\n",
       "    <tr>\n",
       "      <td>81</td>\n",
       "      <td>81</td>\n",
       "      <td>1574167501906_A03_2019_11_19__12_45_2.jpg</td>\n",
       "      <td>person</td>\n",
       "      <td>{'left': 51.294212341308594, 'right': 652.7949...</td>\n",
       "      <td>0.523822</td>\n",
       "    </tr>\n",
       "  </tbody>\n",
       "</table>\n",
       "<p>82 rows × 5 columns</p>\n",
       "</div>"
      ],
      "text/plain": [
       "    Unnamed: 0                                   image_id  object  \\\n",
       "0            0  1574167501906_A66_2019_11_19__12_45_5.jpg  person   \n",
       "1            1  1574167501906_A66_2019_11_19__12_45_5.jpg     car   \n",
       "2            2  1574167501906_A66_2019_11_19__12_45_5.jpg     car   \n",
       "3            3  1574167501906_A66_2019_11_19__12_45_5.jpg     car   \n",
       "4            4  1574167501906_A66_2019_11_19__12_45_5.jpg   truck   \n",
       "..         ...                                        ...     ...   \n",
       "77          77  1574167501906_A03_2019_11_19__12_45_2.jpg  person   \n",
       "78          78  1574167501906_A03_2019_11_19__12_45_2.jpg  person   \n",
       "79          79  1574167501906_A03_2019_11_19__12_45_2.jpg  person   \n",
       "80          80  1574167501906_A03_2019_11_19__12_45_2.jpg  person   \n",
       "81          81  1574167501906_A03_2019_11_19__12_45_2.jpg  person   \n",
       "\n",
       "                                          coordinates     score  \n",
       "0   {'left': 315.2207946777344, 'right': 386.18133...  0.998583  \n",
       "1   {'left': 477.3667526245117, 'right': 636.42704...  0.996670  \n",
       "2   {'left': 877.5014495849609, 'right': 1089.0686...  0.995281  \n",
       "3   {'left': 703.0149078369141, 'right': 857.67539...  0.994955  \n",
       "4   {'left': 395.87406158447266, 'right': 571.4951...  0.984648  \n",
       "..                                                ...       ...  \n",
       "77  {'left': 1244.4189453125, 'right': 1273.880920...  0.614862  \n",
       "78  {'left': 1.363002061843872, 'right': 24.216156...  0.601963  \n",
       "79  {'left': 913.76953125, 'right': 938.1816101074...  0.589023  \n",
       "80  {'left': 546.6290283203125, 'right': 569.96192...  0.546030  \n",
       "81  {'left': 51.294212341308594, 'right': 652.7949...  0.523822  \n",
       "\n",
       "[82 rows x 5 columns]"
      ]
     },
     "execution_count": 8,
     "metadata": {},
     "output_type": "execute_result"
    }
   ],
   "source": [
    "df = pd.read_csv('/home/ls283h/Work/CCTV/production/output_folder/detections.csv')\n",
    "df"
   ]
  },
  {
   "cell_type": "code",
   "execution_count": 9,
   "metadata": {},
   "outputs": [],
   "source": [
    "c = collections.Counter()\n",
    "for index, row in df.iterrows():\n",
    "    im,obj=row['image_id'],row['object']\n",
    "    c.update(('_'.join((im,obj)),))"
   ]
  },
  {
   "cell_type": "code",
   "execution_count": 10,
   "metadata": {},
   "outputs": [
    {
     "data": {
      "text/plain": [
       "Counter({'1574167501906_A66_2019_11_19__12_45_5.jpg_person': 7,\n",
       "         '1574167501906_A66_2019_11_19__12_45_5.jpg_car': 3,\n",
       "         '1574167501906_A66_2019_11_19__12_45_5.jpg_truck': 1,\n",
       "         '1574167501906_A66_2019_11_19__12_45_5.jpg_bicycle': 6,\n",
       "         '1574167501906_A66_2019_11_19__12_45_5.jpg_bench': 1,\n",
       "         '1574167501906_A66_2019_11_19__12_45_5.jpg_traffic light': 1,\n",
       "         '1574167501933_A47_2019_11_19__12_45_5.jpg_person': 14,\n",
       "         '1574167501933_A47_2019_11_19__12_45_5.jpg_car': 1,\n",
       "         '1574167501933_A82_2019_11_19__12_45_5.jpg_person': 12,\n",
       "         '1574167501933_A82_2019_11_19__12_45_5.jpg_car': 3,\n",
       "         '1574167501933_A82_2019_11_19__12_45_5.jpg_traffic light': 2,\n",
       "         '1574167501933_A82_2019_11_19__12_45_5.jpg_bus': 1,\n",
       "         '1574167501933_A82_2019_11_19__12_45_5.jpg_clock': 1,\n",
       "         '1574167501933_A82_2019_11_19__12_45_5.jpg_truck': 1,\n",
       "         '1574167501906_A03_2019_11_19__12_45_2.jpg_person': 26,\n",
       "         '1574167501906_A03_2019_11_19__12_45_2.jpg_traffic light': 1,\n",
       "         '1574167501906_A03_2019_11_19__12_45_2.jpg_car': 1})"
      ]
     },
     "execution_count": 10,
     "metadata": {},
     "output_type": "execute_result"
    }
   ],
   "source": [
    "c"
   ]
  },
  {
   "cell_type": "code",
   "execution_count": 11,
   "metadata": {},
   "outputs": [
    {
     "data": {
      "text/plain": [
       "image_id                                   object       \n",
       "1574167501906_A03_2019_11_19__12_45_2.jpg  car               1\n",
       "                                           person           26\n",
       "                                           traffic light     1\n",
       "1574167501906_A66_2019_11_19__12_45_5.jpg  bench             1\n",
       "                                           bicycle           6\n",
       "                                           car               3\n",
       "                                           person            7\n",
       "                                           traffic light     1\n",
       "                                           truck             1\n",
       "1574167501933_A47_2019_11_19__12_45_5.jpg  car               1\n",
       "                                           person           14\n",
       "1574167501933_A82_2019_11_19__12_45_5.jpg  bus               1\n",
       "                                           car               3\n",
       "                                           clock             1\n",
       "                                           person           12\n",
       "                                           traffic light     2\n",
       "                                           truck             1\n",
       "Name: score, dtype: int64"
      ]
     },
     "execution_count": 11,
     "metadata": {},
     "output_type": "execute_result"
    }
   ],
   "source": [
    "counts = df.groupby(['image_id', 'object']).count().score\n",
    "counts"
   ]
  },
  {
   "cell_type": "code",
   "execution_count": 12,
   "metadata": {},
   "outputs": [
    {
     "data": {
      "text/plain": [
       "pandas.core.series.Series"
      ]
     },
     "execution_count": 12,
     "metadata": {},
     "output_type": "execute_result"
    }
   ],
   "source": [
    "type(counts)"
   ]
  },
  {
   "cell_type": "code",
   "execution_count": 47,
   "metadata": {},
   "outputs": [
    {
     "data": {
      "text/plain": [
       "('1574167501906_A03_2019_11_19__12_45_2.jpg', 'car')"
      ]
     },
     "execution_count": 47,
     "metadata": {},
     "output_type": "execute_result"
    }
   ],
   "source": [
    "counts.index[0]"
   ]
  },
  {
   "cell_type": "code",
   "execution_count": 14,
   "metadata": {},
   "outputs": [
    {
     "data": {
      "text/plain": [
       "('1574167501906_A03_2019_11_19__12_45_2.jpg', 'person')"
      ]
     },
     "execution_count": 14,
     "metadata": {},
     "output_type": "execute_result"
    }
   ],
   "source": [
    "counts.index[1]"
   ]
  },
  {
   "cell_type": "code",
   "execution_count": 15,
   "metadata": {},
   "outputs": [
    {
     "data": {
      "text/plain": [
       "'1574167501906_A66_2019_11_19__12_45_5.jpg'"
      ]
     },
     "execution_count": 15,
     "metadata": {},
     "output_type": "execute_result"
    }
   ],
   "source": [
    "counts.index[4][0]"
   ]
  },
  {
   "cell_type": "code",
   "execution_count": 16,
   "metadata": {},
   "outputs": [
    {
     "data": {
      "text/plain": [
       "1"
      ]
     },
     "execution_count": 16,
     "metadata": {},
     "output_type": "execute_result"
    }
   ],
   "source": [
    "counts[0]"
   ]
  },
  {
   "cell_type": "code",
   "execution_count": 17,
   "metadata": {},
   "outputs": [
    {
     "data": {
      "text/plain": [
       "'1574167501906_A03_2019_11_19__12_45_2.jpg'"
      ]
     },
     "execution_count": 17,
     "metadata": {},
     "output_type": "execute_result"
    }
   ],
   "source": [
    "counts.index[1][0]"
   ]
  },
  {
   "cell_type": "code",
   "execution_count": 18,
   "metadata": {},
   "outputs": [
    {
     "data": {
      "text/plain": [
       "'person'"
      ]
     },
     "execution_count": 18,
     "metadata": {},
     "output_type": "execute_result"
    }
   ],
   "source": [
    "counts.index[1][1]"
   ]
  },
  {
   "cell_type": "code",
   "execution_count": 19,
   "metadata": {},
   "outputs": [
    {
     "data": {
      "text/plain": [
       "26"
      ]
     },
     "execution_count": 19,
     "metadata": {},
     "output_type": "execute_result"
    }
   ],
   "source": [
    "counts[1]"
   ]
  },
  {
   "cell_type": "code",
   "execution_count": 20,
   "metadata": {},
   "outputs": [],
   "source": [
    "counts = counts[counts.index.get_level_values(1).isin(['bicycle', 'car', 'person', 'motorcycle', 'bus', 'truck'])]"
   ]
  },
  {
   "cell_type": "code",
   "execution_count": 21,
   "metadata": {},
   "outputs": [
    {
     "data": {
      "text/plain": [
       "image_id                                   object \n",
       "1574167501906_A03_2019_11_19__12_45_2.jpg  car         1\n",
       "                                           person     26\n",
       "1574167501906_A66_2019_11_19__12_45_5.jpg  bicycle     6\n",
       "                                           car         3\n",
       "                                           person      7\n",
       "                                           truck       1\n",
       "1574167501933_A47_2019_11_19__12_45_5.jpg  car         1\n",
       "                                           person     14\n",
       "1574167501933_A82_2019_11_19__12_45_5.jpg  bus         1\n",
       "                                           car         3\n",
       "                                           person     12\n",
       "                                           truck       1\n",
       "Name: score, dtype: int64"
      ]
     },
     "execution_count": 21,
     "metadata": {},
     "output_type": "execute_result"
    }
   ],
   "source": [
    "counts"
   ]
  },
  {
   "cell_type": "code",
   "execution_count": 22,
   "metadata": {},
   "outputs": [
    {
     "data": {
      "text/plain": [
       "pandas.core.series.Series"
      ]
     },
     "execution_count": 22,
     "metadata": {},
     "output_type": "execute_result"
    }
   ],
   "source": [
    "type(counts)"
   ]
  },
  {
   "cell_type": "code",
   "execution_count": 23,
   "metadata": {},
   "outputs": [
    {
     "data": {
      "text/plain": [
       "range(0, 12)"
      ]
     },
     "execution_count": 23,
     "metadata": {},
     "output_type": "execute_result"
    }
   ],
   "source": [
    "range(len(counts))"
   ]
  },
  {
   "cell_type": "code",
   "execution_count": 48,
   "metadata": {},
   "outputs": [
    {
     "data": {
      "text/plain": [
       "object\n",
       "bicycle    6\n",
       "car        3\n",
       "person     7\n",
       "truck      1\n",
       "Name: score, dtype: int64"
      ]
     },
     "execution_count": 48,
     "metadata": {},
     "output_type": "execute_result"
    }
   ],
   "source": [
    "counts[counts.index[2][0]]"
   ]
  },
  {
   "cell_type": "code",
   "execution_count": 66,
   "metadata": {},
   "outputs": [
    {
     "data": {
      "text/plain": [
       "Index(['1574167501906_A03_2019_11_19__12_45_2.jpg',\n",
       "       '1574167501906_A66_2019_11_19__12_45_5.jpg',\n",
       "       '1574167501933_A47_2019_11_19__12_45_5.jpg',\n",
       "       '1574167501933_A82_2019_11_19__12_45_5.jpg'],\n",
       "      dtype='object', name='image_id')"
      ]
     },
     "execution_count": 66,
     "metadata": {},
     "output_type": "execute_result"
    }
   ],
   "source": [
    "images = counts.index.get_level_values(0).unique()\n",
    "images"
   ]
  },
  {
   "cell_type": "code",
   "execution_count": 67,
   "metadata": {},
   "outputs": [
    {
     "data": {
      "text/plain": [
       "pandas.core.indexes.base.Index"
      ]
     },
     "execution_count": 67,
     "metadata": {},
     "output_type": "execute_result"
    }
   ],
   "source": [
    "type(images)"
   ]
  },
  {
   "cell_type": "code",
   "execution_count": 68,
   "metadata": {},
   "outputs": [
    {
     "data": {
      "text/plain": [
       "'1574167501906_A66_2019_11_19__12_45_5.jpg'"
      ]
     },
     "execution_count": 68,
     "metadata": {},
     "output_type": "execute_result"
    }
   ],
   "source": [
    "images[1]"
   ]
  },
  {
   "cell_type": "code",
   "execution_count": 69,
   "metadata": {},
   "outputs": [
    {
     "data": {
      "text/plain": [
       "range(0, 4)"
      ]
     },
     "execution_count": 69,
     "metadata": {},
     "output_type": "execute_result"
    }
   ],
   "source": [
    "range(len(images))"
   ]
  },
  {
   "cell_type": "code",
   "execution_count": 47,
   "metadata": {},
   "outputs": [
    {
     "name": "stdout",
     "output_type": "stream",
     "text": [
      "2019-11-27 12:15:19.357499,1574167501906_A03_2019_11_19__12_45_2.jpg,1,26,0,0,0,0\n",
      "2019-11-27 12:15:19.357499,1574167501906_A66_2019_11_19__12_45_5.jpg,3,7,6,0,0,1\n",
      "2019-11-27 12:15:19.357499,1574167501933_A47_2019_11_19__12_45_5.jpg,1,14,0,0,0,0\n",
      "2019-11-27 12:15:19.357499,1574167501933_A82_2019_11_19__12_45_5.jpg,3,12,0,0,1,1\n"
     ]
    }
   ],
   "source": [
    "timestamp = datetime.now() #Return the current local date and time\n",
    "if os.path.isfile('./output_folder/report.csv'):\n",
    "    with open('./output_folder/report.csv', 'a') as file:\n",
    "        writer = csv.writer(file, delimiter=\",\", lineterminator=\"\\n\")\n",
    "        \n",
    "        car = 0\n",
    "        person = 0\n",
    "        bicycle = 0\n",
    "        motorcycle = 0\n",
    "        bus = 0\n",
    "        truck = 0\n",
    "# for object in range(len(counts)):\n",
    "#     print(counts.index[object][0], counts.index[object][1], counts[object]) \n",
    "        \n",
    "        image = counts.index[0][0]\n",
    "        for object in range(len(counts)):\n",
    "            if counts.index[object][0] == image:\n",
    "                if counts.index[object][1] == 'car':\n",
    "                    car = counts[object]\n",
    "                    continue\n",
    "                if  counts.index[object][1] == 'person':\n",
    "                    person = counts[object]\n",
    "                    continue\n",
    "                if  counts.index[object][1] == 'bicycle':\n",
    "                    bicycle = counts[object]\n",
    "                    continue    \n",
    "                if  counts.index[object][1] == 'motorcycle':\n",
    "                    motorcycle = counts[object]\n",
    "                    continue    \n",
    "                if  counts.index[object][1] == 'bus':\n",
    "                    bus = counts[object]\n",
    "                    continue    \n",
    "                if  counts.index[object][1] == 'truck':\n",
    "                    truck = counts[object]\n",
    "            else:\n",
    "                print(timestamp, image, car, person, bicycle, motorcycle, bus, truck, sep=\",\") \n",
    "                row = [timestamp, image, car, person, bicycle, motorcycle, bus, truck] \n",
    "                writer.writerow(row)\n",
    "                car = 0\n",
    "                person = 0\n",
    "                bicycle = 0\n",
    "                motorcycle = 0\n",
    "                bus = 0\n",
    "                truck = 0\n",
    "                \n",
    "                image = counts.index[object][0]        \n",
    "                if counts.index[object][1] == 'car':\n",
    "                    car = counts[object]\n",
    "                    continue\n",
    "                if  counts.index[object][1] == 'person':\n",
    "                    person = counts[object]\n",
    "                    continue\n",
    "                if  counts.index[object][1] == 'bicycle':\n",
    "                    bicycle = counts[object]\n",
    "                    continue    \n",
    "                if  counts.index[object][1] == 'motorcycle':\n",
    "                    motorcycle = counts[object]\n",
    "                    continue    \n",
    "                if  counts.index[object][1] == 'bus':\n",
    "                    bus = counts[object]\n",
    "                    continue    \n",
    "                if  counts.index[object][1] == 'truck':\n",
    "                    truck = counts[object]\n",
    "                    \n",
    "        print(timestamp, image, car, person, bicycle, motorcycle, bus, truck, sep=\",\") \n",
    "        row = [timestamp, image, car, person, bicycle, motorcycle, bus, truck] \n",
    "        writer.writerow(row)\n",
    "else:\n",
    "    with open('./output_folder/report.csv', 'a') as file:\n",
    "        file.write('timestamp,image,car,person,bicycle,motorcycle,bus,truck\\n')\n",
    "        writer = csv.writer(file, delimiter=\",\", lineterminator=\"\\n\")\n",
    "        \n",
    "        car = 0\n",
    "        person = 0\n",
    "        bicycle = 0\n",
    "        motorcycle = 0\n",
    "        bus = 0\n",
    "        truck = 0\n",
    "        \n",
    "        image = counts.index[0][0]\n",
    "        for object in range(len(counts)):\n",
    "            if counts.index[object][0] == image:\n",
    "                if counts.index[object][1] == 'car':\n",
    "                    car = counts[object]\n",
    "                    continue\n",
    "                if  counts.index[object][1] == 'person':\n",
    "                    person = counts[object]\n",
    "                    continue\n",
    "                if  counts.index[object][1] == 'bicycle':\n",
    "                    bicycle = counts[object]\n",
    "                    continue    \n",
    "                if  counts.index[object][1] == 'motorcycle':\n",
    "                    motorcycle = counts[object]\n",
    "                    continue    \n",
    "                if  counts.index[object][1] == 'bus':\n",
    "                    bus = counts[object]\n",
    "                    continue    \n",
    "                if  counts.index[object][1] == 'truck':\n",
    "                    truck = counts[object]\n",
    "            else:\n",
    "                print(timestamp, image, car, person, bicycle, motorcycle, bus, truck, sep=\",\") \n",
    "                row = [timestamp, image, car, person, bicycle, motorcycle, bus, truck] \n",
    "                writer.writerow(row)\n",
    "                car = 0\n",
    "                person = 0\n",
    "                bicycle = 0\n",
    "                motorcycle = 0\n",
    "                bus = 0\n",
    "                truck = 0\n",
    "                \n",
    "                image = counts.index[object][0]        \n",
    "                if counts.index[object][1] == 'car':\n",
    "                    car = counts[object]\n",
    "                    continue\n",
    "                if  counts.index[object][1] == 'person':\n",
    "                    person = counts[object]\n",
    "                    continue\n",
    "                if  counts.index[object][1] == 'bicycle':\n",
    "                    bicycle = counts[object]\n",
    "                    continue    \n",
    "                if  counts.index[object][1] == 'motorcycle':\n",
    "                    motorcycle = counts[object]\n",
    "                    continue    \n",
    "                if  counts.index[object][1] == 'bus':\n",
    "                    bus = counts[object]\n",
    "                    continue    \n",
    "                if  counts.index[object][1] == 'truck':\n",
    "                    truck = counts[object]\n",
    "                    \n",
    "        print(timestamp, image, car, person, bicycle, motorcycle, bus, truck, sep=\",\") \n",
    "        row = [timestamp, image, car, person, bicycle, motorcycle, bus, truck] \n",
    "        writer.writerow(row)\n",
    "        \n",
    "file.close()"
   ]
  },
  {
   "cell_type": "code",
   "execution_count": 70,
   "metadata": {},
   "outputs": [
    {
     "name": "stdout",
     "output_type": "stream",
     "text": [
      "2019-11-27 14:34:03.260546,1574167501906_A03_2019_11_19__12_45_2.jpg,1,26,0,0,0,0\n",
      "2019-11-27 14:34:03.260546,1574167501906_A66_2019_11_19__12_45_5.jpg,3,7,6,0,0,1\n",
      "2019-11-27 14:34:03.260546,1574167501933_A47_2019_11_19__12_45_5.jpg,1,14,0,0,0,0\n",
      "2019-11-27 14:34:03.260546,1574167501933_A82_2019_11_19__12_45_5.jpg,3,12,0,0,1,1\n"
     ]
    }
   ],
   "source": [
    "timestamp = datetime.now() #Return the current local date and time\n",
    "if os.path.isfile('./output_folder/report.csv'):\n",
    "    with open('./output_folder/report.csv', 'a') as file:\n",
    "        writer = csv.writer(file, delimiter=\",\", lineterminator=\"\\n\")\n",
    "        \n",
    "        car = 0\n",
    "        person = 0\n",
    "        bicycle = 0\n",
    "        motorcycle = 0\n",
    "        bus = 0\n",
    "        truck = 0\n",
    "        for i in range(len(images)):\n",
    "            for j in range(len(counts)):\n",
    "                if images[i] == counts.index[j][0] and counts.index[j][1] == 'car':\n",
    "                    car = counts[j]\n",
    "                    continue\n",
    "                if images[i] == counts.index[j][0] and counts.index[j][1] == 'person':\n",
    "                    person = counts[j]\n",
    "                    continue\n",
    "                if images[i] == counts.index[j][0] and counts.index[j][1] == 'bicycle':\n",
    "                    bicycle = counts[j]\n",
    "                    continue\n",
    "                if images[i] == counts.index[j][0] and counts.index[j][1] == 'motorcycle':\n",
    "                    motorcycle = counts[j]\n",
    "                    continue\n",
    "                if images[i] == counts.index[j][0] and counts.index[j][1] == 'bus':\n",
    "                    bus = counts[j]\n",
    "                    continue\n",
    "                if images[i] == counts.index[j][0] and counts.index[j][1] == 'truck':\n",
    "                    truck = counts[j]\n",
    "            print(timestamp, images[i], car, person, bicycle, motorcycle, bus, truck, sep=\",\") \n",
    "            row = [timestamp, images[i], car, person, bicycle, motorcycle, bus, truck] \n",
    "            writer.writerow(row)\n",
    "            car = 0\n",
    "            person = 0\n",
    "            bicycle = 0\n",
    "            motorcycle = 0\n",
    "            bus = 0\n",
    "            truck = 0\n",
    "else:\n",
    "    with open('./output_folder/report.csv', 'a') as file:\n",
    "        file.write('timestamp,image,car,person,bicycle,motorcycle,bus,truck\\n')\n",
    "        writer = csv.writer(file, delimiter=\",\", lineterminator=\"\\n\")\n",
    "        \n",
    "        car = 0\n",
    "        person = 0\n",
    "        bicycle = 0\n",
    "        motorcycle = 0\n",
    "        bus = 0\n",
    "        truck = 0\n",
    "        for i in range(len(images)):\n",
    "            for j in range(len(counts)):\n",
    "                if images[i] == counts.index[j][0] and counts.index[j][1] == 'car':\n",
    "                    car = counts[j]\n",
    "                    continue\n",
    "                if images[i] == counts.index[j][0] and counts.index[j][1] == 'person':\n",
    "                    person = counts[j]\n",
    "                    continue\n",
    "                if images[i] == counts.index[j][0] and counts.index[j][1] == 'bicycle':\n",
    "                    bicycle = counts[j]\n",
    "                    continue\n",
    "                if images[i] == counts.index[j][0] and counts.index[j][1] == 'motorcycle':\n",
    "                    motorcycle = counts[j]\n",
    "                    continue\n",
    "                if images[i] == counts.index[j][0] and counts.index[j][1] == 'bus':\n",
    "                    bus = counts[j]\n",
    "                    continue\n",
    "                if images[i] == counts.index[j][0] and counts.index[j][1] == 'truck':\n",
    "                    truck = counts[j]\n",
    "            print(timestamp, images[i], car, person, bicycle, motorcycle, bus, truck, sep=\",\") \n",
    "            row = [timestamp, images[i], car, person, bicycle, motorcycle, bus, truck] \n",
    "            writer.writerow(row)\n",
    "            car = 0\n",
    "            person = 0\n",
    "            bicycle = 0\n",
    "            motorcycle = 0\n",
    "            bus = 0\n",
    "            truck = 0"
   ]
  },
  {
   "cell_type": "code",
   "execution_count": null,
   "metadata": {},
   "outputs": [],
   "source": []
  }
 ],
 "metadata": {
  "kernelspec": {
   "display_name": "Python 3",
   "language": "python",
   "name": "python3"
  },
  "language_info": {
   "codemirror_mode": {
    "name": "ipython",
    "version": 3
   },
   "file_extension": ".py",
   "mimetype": "text/x-python",
   "name": "python",
   "nbconvert_exporter": "python",
   "pygments_lexer": "ipython3",
   "version": "3.6.9"
  }
 },
 "nbformat": 4,
 "nbformat_minor": 4
}
